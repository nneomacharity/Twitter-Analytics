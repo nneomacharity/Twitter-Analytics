{
  "nbformat": 4,
  "nbformat_minor": 0,
  "metadata": {
    "colab": {
      "provenance": []
    },
    "kernelspec": {
      "name": "python3",
      "display_name": "Python 3"
    },
    "language_info": {
      "name": "python"
    }
  },
  "cells": [
    {
      "cell_type": "code",
      "source": [
        "!pip install wordcloud"
      ],
      "metadata": {
        "id": "OKgzA_g_cS5s"
      },
      "execution_count": null,
      "outputs": []
    },
    {
      "cell_type": "code",
      "execution_count": null,
      "metadata": {
        "id": "bxZPdGhqut8h"
      },
      "outputs": [],
      "source": [
        "import pandas as pd\n",
        "import matplotlib.pyplot as plt\n",
        "\n",
        "def content_analysis(tweetsDataFrame):\n",
        "    # Extract the relevant columns from the tweetsDataFrame\n",
        "    Content = tweetsDataFrame[[\"created_at\", \"Tweets\"]]\n",
        "\n",
        "    # Count the frequency of each word in the tweets\n",
        "    word_freq = Content[\"Tweets\"].str.split(expand=True).stack().value_counts()\n",
        "\n",
        "    # Print the top 20 most frequent words with their percentage frequency\n",
        "    print(\"Top 20 most frequent words:\")\n",
        "    top_words = word_freq.head(20)\n",
        "    for i,(word, freq) in enumerate(top_words.iteritems(), start=1):\n",
        "        print(f\"{i}.{word}:{freq/1000:.2%}\")\n",
        "\n",
        "    \n",
        "    # Create a WordCloud object\n",
        "    wc = WordCloud(width=800, height=400, background_color='white', colormap='rainbow').generate_from_frequencies(word_freq)\n",
        "\n",
        "    # Plot the WordCloud\n",
        "    plt.figure(figsize=(20,10))\n",
        "    plt.imshow(wc, interpolation='bilinear')\n",
        "    plt.axis(\"off\")\n",
        "    plt.title(\"Word Cloud on Most Frequent Words\")\n",
        "    plt.show()\n",
        "\n",
        "\n",
        "# Create a bar chart of the top 20 most frequent words\n",
        "    plt.figure(figsize=(12,8))\n",
        "    plt.bar(top_words.index, top_words.values)\n",
        "    plt.xticks(rotation=90)\n",
        "    plt.xlabel(\"Words\")\n",
        "    plt.ylabel(\"Frequency\")\n",
        "    plt.title(\"Top 20 most frequent words\")\n",
        "    plt.show()\n",
        "\n",
        "    # Add a column for high frequency words\n",
        "    Content[\"High_Frequency\"] = Content[\"Tweets\"].str.split().apply(lambda x: any(word_freq[word] > 0.5 for word in x))\n",
        "\n",
        "    # Print the high frequency words\n",
        "    print(\"\\nWords with a frequency of more than 50%:\")\n",
        "    print(Content.loc[Content[\"High_Frequency\"], \"Tweets\"].str.split(expand=True).stack().value_counts()/1000)\n"
      ]
    },
    {
      "cell_type": "code",
      "source": [
        "content_analysis(tweetsDataFrame)"
      ],
      "metadata": {
        "id": "nlpsevC1u3K_"
      },
      "execution_count": null,
      "outputs": []
    },
    {
      "cell_type": "markdown",
      "source": [
        "# Enagement Level of tweets "
      ],
      "metadata": {
        "id": "SsxovfIPcexr"
      }
    },
    {
      "cell_type": "code",
      "source": [
        "# Calculate the engagement level for each tweet by adding retweets and favorites\n",
        "tweetsDataFrame[\"engagement level\"] = tweetsDataFrame[\"retweet_count\"] + tweetsDataFrame[\"favorite_count\"]\n",
        "\n",
        "# Group the tweets by date and calculate the total engagement level for each day\n",
        "dailyEngagement = tweetsDataFrame.groupby(tweetsDataFrame[\"created_at\"].dt.date)[\"engagement level\"].sum()\n",
        "\n",
        "# Create a plot with a size of 10x6 inches\n",
        "plt.figure(figsize=(10,6))\n",
        "\n",
        "# Plot a line graph of the daily engagement level over time\n",
        "plt.plot(dailyEngagement.index, dailyEngagement.values)\n",
        "\n",
        "plt.xlabel(\"Date\")\n",
        "plt.ylabel(\"Engagement Level\")\n",
        "plt.title(\"Daily Engagement Level of Tweets\")\n",
        "plt.show()"
      ],
      "metadata": {
        "id": "0byRnUSvch_g"
      },
      "execution_count": null,
      "outputs": []
    }
  ]
}